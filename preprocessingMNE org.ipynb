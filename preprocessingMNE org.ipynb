{
 "cells": [
  {
   "cell_type": "markdown",
   "id": "a1719add",
   "metadata": {},
   "source": [
    "# **Preprocessing with MNE**"
   ]
  },
  {
   "cell_type": "code",
   "execution_count": null,
   "id": "b07b1d93",
   "metadata": {},
   "outputs": [],
   "source": [
    "# Import the MNE library for EEG analysis\n",
    "import mne\n",
    "%matplotlib qt\n",
    "# Read raw EEG data from an EDF file\n",
    "rawEEG = mne.io.read_raw_edf('EDF_EEG.edf', preload=True)\n",
    "rawEEG.plot(block=False, duration=10.0, title='raw EEG data')\n",
    "rawEEG.filter(.1,30)\n",
    "rawEEG.plot(block=False, duration=10.0, title='Filtered EEG data')\n"
   ]
  },
  {
   "cell_type": "markdown",
   "id": "f064f12b",
   "metadata": {},
   "source": [
    "### *Plotting EEG*"
   ]
  },
  {
   "cell_type": "code",
   "execution_count": null,
   "id": "cec19779",
   "metadata": {},
   "outputs": [],
   "source": [
    "# Plot the raw EEG data (non-interactive)\n",
    "rawEEG.plot(block=False, duration=10.0, title='raw EEG data')"
   ]
  },
  {
   "cell_type": "markdown",
   "id": "e99c2069",
   "metadata": {},
   "source": [
    "### *General information of our data*"
   ]
  },
  {
   "cell_type": "code",
   "execution_count": null,
   "id": "e04a4efc",
   "metadata": {},
   "outputs": [],
   "source": [
    "# Display information about the raw EEG data\n",
    "rawEEG.info\n",
    "print(rawEEG.info['nchan'])"
   ]
  },
  {
   "cell_type": "markdown",
   "id": "577849b0",
   "metadata": {},
   "source": [
    "### *Filtering EEG*"
   ]
  },
  {
   "cell_type": "code",
   "execution_count": null,
   "id": "6d8066d8",
   "metadata": {},
   "outputs": [],
   "source": [
    "#Filtering the EEG\n",
    "rawEEG.filter(0, 30)\n",
    "# filter(lower frequency, higher frequency)"
   ]
  },
  {
   "cell_type": "code",
   "execution_count": null,
   "id": "7c90a578",
   "metadata": {},
   "outputs": [],
   "source": [
    "#Create a variable for filtered EEG\n",
    "EEGFiltered = rawEEG.copy(). filter(0.1, 40)\n",
    "# EEGArtifacted"
   ]
  },
  {
   "cell_type": "code",
   "execution_count": null,
   "id": "2fba25c4",
   "metadata": {},
   "outputs": [],
   "source": [
    "EEGFiltered = mne.io.read_raw_fif('EEGFiltered.fif', preload=True)"
   ]
  },
  {
   "cell_type": "markdown",
   "id": "6e4b6b1d",
   "metadata": {},
   "source": [
    "### *Saving Steps*"
   ]
  },
  {
   "cell_type": "code",
   "execution_count": null,
   "id": "ba2bb252",
   "metadata": {},
   "outputs": [],
   "source": [
    "# Saving the filtered EEG data to a file\n",
    "EEGFiltered.save('EEGFiltered.fif')"
   ]
  },
  {
   "cell_type": "code",
   "execution_count": null,
   "id": "5474f135",
   "metadata": {},
   "outputs": [],
   "source": [
    "EEGFiltered = mne.io.read_raw_fif('EEGFiltered.fif', preload=True)"
   ]
  },
  {
   "cell_type": "markdown",
   "id": "54efa4ad",
   "metadata": {},
   "source": [
    "### *Removing artifacts considering ICA*"
   ]
  },
  {
   "cell_type": "code",
   "execution_count": null,
   "id": "13ad9a78",
   "metadata": {},
   "outputs": [],
   "source": [
    "rawEEG.plot()"
   ]
  },
  {
   "cell_type": "code",
   "execution_count": null,
   "id": "beb7394c",
   "metadata": {},
   "outputs": [],
   "source": [
    "from mne.preprocessing import ICA\n",
    "# Creating a standard 10-20 system montage\n",
    "montage = mne.channels.make_standard_montage('standard_1020')\n",
    "#Set the created montage to EEG\n",
    "rawEEG.set_montage(montage)\n"
   ]
  },
  {
   "cell_type": "code",
   "execution_count": null,
   "id": "fe6789db",
   "metadata": {},
   "outputs": [],
   "source": [
    "#Importing necessary function\n",
    "from mne.preprocessing import ICA\n",
    "# Create ICA\n",
    "ICAComponents = ICA(15)\n",
    "# Fit to Data\n",
    "ICAComponents.fit(rawEEG)\n",
    "#plottinh the components\n",
    "ICAComponents.plot_components()"
   ]
  },
  {
   "cell_type": "code",
   "execution_count": null,
   "id": "b5ac0bed",
   "metadata": {},
   "outputs": [],
   "source": [
    "#Exclude artifactual components\n",
    "ICAComponents.exclude = [1,2]\n",
    "rawEEG_ICA = ICAComponents.apply(rawEEG)\n"
   ]
  },
  {
   "cell_type": "code",
   "execution_count": null,
   "id": "54c14279",
   "metadata": {},
   "outputs": [],
   "source": [
    "#Plot after ICA artifact removal\n",
    "rawEEG_ICA.plot()"
   ]
  },
  {
   "cell_type": "code",
   "execution_count": null,
   "id": "df2073f9",
   "metadata": {},
   "outputs": [],
   "source": [
    "import matplotlib.pyplot as plt\n",
    "rawEEG.plot()\n",
    "plt.show()"
   ]
  }
 ],
 "metadata": {
  "kernelspec": {
   "display_name": "Python 3 (ipykernel)",
   "language": "python",
   "name": "python3"
  },
  "language_info": {
   "codemirror_mode": {
    "name": "ipython",
    "version": 3
   },
   "file_extension": ".py",
   "mimetype": "text/x-python",
   "name": "python",
   "nbconvert_exporter": "python",
   "pygments_lexer": "ipython3",
   "version": "3.9.13"
  }
 },
 "nbformat": 4,
 "nbformat_minor": 5
}
