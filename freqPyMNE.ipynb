{
 "cells": [
  {
   "cell_type": "markdown",
   "id": "50d3266a",
   "metadata": {},
   "source": [
    "# **Frequency analysis in Python and MNE**"
   ]
  },
  {
   "cell_type": "markdown",
   "id": "eeb96f40",
   "metadata": {},
   "source": [
    "### **Importing one channel EEG in text format**"
   ]
  },
  {
   "cell_type": "code",
   "execution_count": null,
   "id": "706d73d9",
   "metadata": {},
   "outputs": [],
   "source": [
    "# Importing necessary libraries\n",
    "import numpy as np\n",
    "import matplotlib.pyplot as plt\n",
    "\n",
    "# Loading EEG data from a text file\n",
    "data = np.loadtxt('One_Ch_EEG.txt')\n",
    "data"
   ]
  },
  {
   "cell_type": "code",
   "execution_count": null,
   "id": "f5ec990e",
   "metadata": {},
   "outputs": [],
   "source": [
    "#Our one channel shape\n",
    "print(data.shape)"
   ]
  },
  {
   "cell_type": "code",
   "execution_count": null,
   "id": "63904568",
   "metadata": {},
   "outputs": [],
   "source": [
    "#Plotting one channel data\n",
    "plt.plot(data)"
   ]
  },
  {
   "cell_type": "markdown",
   "id": "ec335432",
   "metadata": {},
   "source": [
    "### **Changing to second instead of points**"
   ]
  },
  {
   "cell_type": "code",
   "execution_count": null,
   "id": "9ce2b4ef",
   "metadata": {},
   "outputs": [],
   "source": [
    "# Defining the sampling rate\n",
    "srate = 256\n",
    "\n",
    "# Creating a time vector based on the length of the data and the sampling rate\n",
    "time = np.arange(len(data)) / srate\n",
    "\n",
    "plt.plot(time, data)\n",
    "plt.xlabel('Time')\n",
    "plt.ylabel('Amplitude')\n",
    "plt.show()"
   ]
  },
  {
   "cell_type": "markdown",
   "id": "034d9f22",
   "metadata": {},
   "source": [
    "### **Using FFT function for EEG data**"
   ]
  },
  {
   "cell_type": "code",
   "execution_count": null,
   "id": "6495b1b8",
   "metadata": {},
   "outputs": [],
   "source": [
    "# Calculating the power spectrum using Fast Fourier Transform (FFT)\n",
    "powerSpectrum = np.fft.fft(data)\n",
    "\n",
    "# Generating frequency values corresponding to the FFT result\n",
    "freqs=np.fft.fftfreq(data.size, d=1/256)"
   ]
  },
  {
   "cell_type": "code",
   "execution_count": null,
   "id": "65676969",
   "metadata": {},
   "outputs": [],
   "source": [
    "#Plot the result\n",
    "fig, ax = plt.subplots(2,1)\n",
    "ax[0].plot(time, data)\n",
    "ax[0].set_xlabel('Time (s)')\n",
    "ax[0].set_ylabel('Amplitude (uV)')\n",
    "\n",
    "# Creating a mask to retain only positive frequencies\n",
    "mask = freqs > 0\n",
    "freqsPositive = freqs[mask]\n",
    "spectrumPositive = np.abs(powerSpectrum)[mask]\n",
    "\n",
    "ax[1].plot(freqsPositive, spectrumPositive)\n",
    "ax[1].set_xlabel('Frequency (Hz)')\n",
    "ax[1].set_ylabel('Amplitude (uV)')\n",
    "ax[1].set_title('Amplitude Spectrum')\n",
    "ax[1].set_xlim([1,40])\n"
   ]
  },
  {
   "cell_type": "markdown",
   "id": "2386edef",
   "metadata": {},
   "source": [
    "### **Frequency analysis in MNE**"
   ]
  },
  {
   "cell_type": "code",
   "execution_count": null,
   "id": "b9e416b2",
   "metadata": {},
   "outputs": [],
   "source": [
    "#Importing necessary libraries\n",
    "import mne\n",
    "from mne.preprocessing import ICA\n",
    "import matplotlib.pyplot as plt\n",
    "%matplotlib qt\n",
    "\n",
    "#Importing the raw EEG data (EDF format) and importing into memory\n",
    "EEG = mne.io.read_raw_fif('EEGFiltered.fif', preload=True)\n",
    "\n",
    "#Filtering the data\n",
    "EEG.filter(0.1,30)\n",
    "\n",
    "#Create montage\n",
    "montage = mne.channels.make_standard_montage('standard_1020')\n",
    "#Set montage to raw EEG data\n",
    "EEG.set_montage(montage)\n"
   ]
  },
  {
   "cell_type": "markdown",
   "id": "a41b1cd1",
   "metadata": {},
   "source": [
    "### **Generate the Power Spectral Density (PSD)**"
   ]
  },
  {
   "cell_type": "code",
   "execution_count": null,
   "id": "791755be",
   "metadata": {},
   "outputs": [],
   "source": [
    "psd, freqs =mne.time_frequency.psd_array_multitaper (EEG.get_data(), EEG.info['sfreq'],\n",
    "                                                     fmin=0.5, fmax=30)\n",
    "psd.shape"
   ]
  },
  {
   "cell_type": "markdown",
   "id": "51508b86",
   "metadata": {},
   "source": [
    "### **PSDs for 19 channels**"
   ]
  },
  {
   "cell_type": "code",
   "execution_count": null,
   "id": "d5913481",
   "metadata": {},
   "outputs": [],
   "source": [
    "# Creating a subplot to visualize power spectral density (PSD) for all EEG channels\n",
    "fig, ax = plt.subplots(figsize=(20,10))\n",
    "for i in range(len(EEG.ch_names)):\n",
    "    ax.plot(freqs, psd[i], label=EEG.ch_names[i])\n",
    "    ax.set_xlabel('Frequency Hz')\n",
    "    ax.set_ylabel('PSDs for all 19 channels')\n",
    "plt.legend()\n",
    "plt.show()\n"
   ]
  },
  {
   "cell_type": "code",
   "execution_count": null,
   "id": "be036af2",
   "metadata": {},
   "outputs": [],
   "source": [
    "EEG.ch_names"
   ]
  },
  {
   "cell_type": "markdown",
   "id": "3b0f1e58",
   "metadata": {},
   "source": [
    "### **PSD for desired channel**"
   ]
  },
  {
   "cell_type": "code",
   "execution_count": null,
   "id": "f9033cfa",
   "metadata": {},
   "outputs": [],
   "source": [
    "plt.plot(freqs, psd[18], label='O2')\n",
    "plt.legend()"
   ]
  },
  {
   "cell_type": "code",
   "execution_count": null,
   "id": "fe8ae8ce",
   "metadata": {},
   "outputs": [],
   "source": [
    "# Printing the indices and names of all EEG channels\n",
    "for i in range(len(EEG.ch_names)):\n",
    "    print(i, EEG.ch_names[i])\n"
   ]
  },
  {
   "cell_type": "code",
   "execution_count": null,
   "id": "aa1950d7",
   "metadata": {},
   "outputs": [],
   "source": [
    "plt.plot(freqs, psd[8], label='C3')\n",
    "plt.plot(freqs, psd[10], label='C4')\n",
    "plt.legend()\n",
    "plt.show()\n"
   ]
  },
  {
   "cell_type": "markdown",
   "id": "7baee58d",
   "metadata": {},
   "source": [
    "### **Custom topomaps**"
   ]
  },
  {
   "cell_type": "code",
   "execution_count": null,
   "id": "0ec83cde",
   "metadata": {},
   "outputs": [],
   "source": [
    "im , _ = mne.viz.plot_topomap(psd.mean(axis=-1), pos=EEG.info, cmap='RdBu_r',\n",
    "                              names=EEG.info['ch_names'])\n",
    "plt.colorbar(im)"
   ]
  },
  {
   "cell_type": "markdown",
   "id": "b324f0f8",
   "metadata": {},
   "source": [
    "### **Topomaps for Theta, Alpha and Beta ranges**"
   ]
  },
  {
   "cell_type": "code",
   "execution_count": null,
   "id": "4ccafa55",
   "metadata": {},
   "outputs": [],
   "source": [
    "# Defining the frequency bands of interest\n",
    "freqBands = [(3, 7), (8, 12), (13, 30)]\n",
    "\n",
    "# Creating subplots for each frequency band\n",
    "fig, axes = plt.subplots(1, 3, figsize=(15, 5))\n",
    "# Looping over each frequency band\n",
    "for i, (fmin, fmax) in enumerate(freqBands):\n",
    "    ax = axes[i]\n",
    "     # Computing power spectral density (PSD) using multitaper method\n",
    "    psd, freqs = mne.time_frequency.psd_array_multitaper(EEG.get_data(), sfreq=EEG.info['sfreq'], fmin=fmin, fmax=fmax)\n",
    "    # Plotting topomap for the average PSD across channels\n",
    "    mne.viz.plot_topomap(psd.mean(axis=-1), pos=EEG.info, cmap='RdBu_r', axes=ax, names=EEG.info['ch_names'])\n",
    "    # Setting the title for the subplot\n",
    "    ax.set(title='PSD ({:.1f} - {:.1f}) Hz'.format(fmin, fmax))\n"
   ]
  }
 ],
 "metadata": {
  "kernelspec": {
   "display_name": "Python 3 (ipykernel)",
   "language": "python",
   "name": "python3"
  },
  "language_info": {
   "codemirror_mode": {
    "name": "ipython",
    "version": 3
   },
   "file_extension": ".py",
   "mimetype": "text/x-python",
   "name": "python",
   "nbconvert_exporter": "python",
   "pygments_lexer": "ipython3",
   "version": "3.11.7"
  }
 },
 "nbformat": 4,
 "nbformat_minor": 5
}
