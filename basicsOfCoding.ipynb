{
 "cells": [
  {
   "cell_type": "code",
   "execution_count": null,
   "id": "b3154ea2",
   "metadata": {},
   "outputs": [],
   "source": [
    "2+3"
   ]
  },
  {
   "cell_type": "code",
   "execution_count": null,
   "id": "27a12c77",
   "metadata": {},
   "outputs": [],
   "source": []
  },
  {
   "cell_type": "code",
   "execution_count": null,
   "id": "f874ef82",
   "metadata": {},
   "outputs": [],
   "source": []
  },
  {
   "cell_type": "code",
   "execution_count": null,
   "id": "404691e3",
   "metadata": {},
   "outputs": [],
   "source": [
    "length = 5\n",
    "width = 3\n",
    "area = length * width\n",
    "area"
   ]
  },
  {
   "cell_type": "code",
   "execution_count": null,
   "id": "f7e613ee",
   "metadata": {},
   "outputs": [],
   "source": [
    "print (area)"
   ]
  },
  {
   "cell_type": "code",
   "execution_count": null,
   "id": "0533eb53",
   "metadata": {},
   "outputs": [],
   "source": [
    "message = \"Hello Brain Lovers!\""
   ]
  },
  {
   "cell_type": "code",
   "execution_count": null,
   "id": "58f16fa2",
   "metadata": {},
   "outputs": [],
   "source": [
    "print(message)"
   ]
  },
  {
   "cell_type": "code",
   "execution_count": null,
   "id": "313afa9f",
   "metadata": {},
   "outputs": [],
   "source": [
    "greetings = \"Hello\"\n",
    "name = 'EEG Lovers'\n",
    "print(greetings + \" , \" + name + \"!\")"
   ]
  },
  {
   "cell_type": "code",
   "execution_count": null,
   "id": "6d677311",
   "metadata": {},
   "outputs": [],
   "source": [
    "print(name + \"the are you calculated is \"+ str(area))"
   ]
  },
  {
   "cell_type": "code",
   "execution_count": null,
   "id": "b357b677",
   "metadata": {},
   "outputs": [],
   "source": [
    "print(Name + \"the are you calculated is \"+ str(area))"
   ]
  },
  {
   "cell_type": "code",
   "execution_count": null,
   "id": "6d5c6eb5",
   "metadata": {},
   "outputs": [],
   "source": [
    "total_area = length * width #Descriptive and meaningful\n",
    "user_age = 25 #single-word variable\n",
    "userName = \"John\" #Camel Case for muttiple words"
   ]
  },
  {
   "cell_type": "code",
   "execution_count": null,
   "id": "70c9e90d",
   "metadata": {},
   "outputs": [],
   "source": [
    "myFirstEEGSample = [100, 200, 300, 400]\n",
    "myFirstEEGSample"
   ]
  },
  {
   "cell_type": "code",
   "execution_count": null,
   "id": "990163fc",
   "metadata": {},
   "outputs": [],
   "source": [
    "type(myFirstEEGSample)"
   ]
  },
  {
   "cell_type": "code",
   "execution_count": null,
   "id": "de9d7e39",
   "metadata": {},
   "outputs": [],
   "source": [
    "myStringList = ['Python', 'EEG']\n",
    "myStringList"
   ]
  },
  {
   "cell_type": "code",
   "execution_count": null,
   "id": "9f2724bb",
   "metadata": {},
   "outputs": [],
   "source": [
    "myCombinedList = [\"EEG\", 19, 250]"
   ]
  },
  {
   "cell_type": "code",
   "execution_count": null,
   "id": "93cbd5a9",
   "metadata": {},
   "outputs": [],
   "source": [
    "200 in myFirstEEGSample"
   ]
  },
  {
   "cell_type": "code",
   "execution_count": null,
   "id": "48722493",
   "metadata": {},
   "outputs": [],
   "source": [
    "myFirstEEGSample.append(500)\n",
    "myFirstEEGSample"
   ]
  },
  {
   "cell_type": "code",
   "execution_count": null,
   "id": "0b7fbf9f",
   "metadata": {},
   "outputs": [],
   "source": [
    "myFirstEEGSample.reverse()\n",
    "myFirstEEGSample"
   ]
  },
  {
   "cell_type": "code",
   "execution_count": null,
   "id": "06ad2d1c",
   "metadata": {},
   "outputs": [],
   "source": [
    "whos"
   ]
  },
  {
   "cell_type": "markdown",
   "id": "83faa328",
   "metadata": {},
   "source": [
    "# **Creating a dictionary to store EEG data for different conditions**"
   ]
  },
  {
   "cell_type": "code",
   "execution_count": null,
   "id": "18a0f77b",
   "metadata": {},
   "outputs": [],
   "source": [
    "# Creating a dictionary to store EEG data for different conditions\n",
    "myEEGData = dict()\n",
    "# Storing EEG data for the conditions of the experiment with a list of values\n",
    "myEEGData['conditionHappy'] = [20, -13, 0, 4,50, 32, 13, 0, -8]\n",
    "myEEGData['conditionSad'] = [23, -3, 0, 8]\n",
    "# Storing the sample rate of the EEG data\n",
    "myEEGData['Sample Rate'] = 256\n"
   ]
  },
  {
   "cell_type": "code",
   "execution_count": null,
   "id": "869552ff",
   "metadata": {},
   "outputs": [],
   "source": [
    "myEEGData['conditionHappy'][:5]"
   ]
  },
  {
   "cell_type": "code",
   "execution_count": null,
   "id": "fdfcc62a",
   "metadata": {},
   "outputs": [],
   "source": [
    "'conditionHappy' in myEEGData"
   ]
  },
  {
   "cell_type": "code",
   "execution_count": null,
   "id": "43059851",
   "metadata": {},
   "outputs": [],
   "source": [
    "myEEGData.keys()"
   ]
  },
  {
   "cell_type": "code",
   "execution_count": null,
   "id": "91ffa0e3",
   "metadata": {},
   "outputs": [],
   "source": [
    "myEEGData.values()"
   ]
  },
  {
   "cell_type": "code",
   "execution_count": null,
   "id": "6870f757",
   "metadata": {},
   "outputs": [],
   "source": [
    "myEEGData.items()"
   ]
  },
  {
   "cell_type": "code",
   "execution_count": null,
   "id": "3ba0948a",
   "metadata": {},
   "outputs": [],
   "source": [
    "myFirstEEGSample"
   ]
  },
  {
   "cell_type": "code",
   "execution_count": null,
   "id": "34d501cb",
   "metadata": {},
   "outputs": [],
   "source": [
    "myFirstEEGSample[1]"
   ]
  },
  {
   "cell_type": "code",
   "execution_count": null,
   "id": "cfb61429",
   "metadata": {},
   "outputs": [],
   "source": [
    "myFirstEEGSample[0]"
   ]
  },
  {
   "cell_type": "code",
   "execution_count": null,
   "id": "eee28d2d",
   "metadata": {},
   "outputs": [],
   "source": [
    "myEEGData['conditionHappy'][1]"
   ]
  },
  {
   "cell_type": "markdown",
   "id": "bec489a4",
   "metadata": {},
   "source": [
    "# **Working with Functions**"
   ]
  },
  {
   "cell_type": "code",
   "execution_count": null,
   "id": "e8935ed0",
   "metadata": {},
   "outputs": [],
   "source": [
    "conditionHappy = myEEGData['conditionHappy']\n",
    "conditionHappy "
   ]
  },
  {
   "cell_type": "code",
   "execution_count": null,
   "id": "fe1e7d28",
   "metadata": {},
   "outputs": [],
   "source": [
    "maxPotentialOfConditionHappy = max(conditionHappy)\n",
    "maxPotentialOfConditionHappy"
   ]
  },
  {
   "cell_type": "code",
   "execution_count": null,
   "id": "f1e435fb",
   "metadata": {},
   "outputs": [],
   "source": [
    "numberOfElements = len(conditionHappy)\n",
    "numberOfElements"
   ]
  },
  {
   "cell_type": "code",
   "execution_count": null,
   "id": "8c1c3062",
   "metadata": {},
   "outputs": [],
   "source": [
    "# Importing the NumPy library with the alias np\n",
    "\n",
    "import numpy as np\n",
    "# Extracting the 'conditionHappy' data from myEEGData dictionary and assigning it to a variable\n",
    "conditionHappy = myEEGData['conditionHappy'] = [20, -13, 0, 4, 50, 32, 13, 0, -8]\n",
    "# Calculating the mean of the 'conditionHappy' data using NumPy's mean function\n",
    "meanHappy = np.mean(conditionHappy)\n",
    "\n",
    "print(\"Mean of conditionHappy:\", meanHappy)\n"
   ]
  },
  {
   "cell_type": "code",
   "execution_count": null,
   "id": "0e9f07e2",
   "metadata": {},
   "outputs": [],
   "source": [
    "# Importing necessary modules\n",
    "import numpy as np\n",
    "import pandas as pd\n",
    "from matplotlib import pyplot as plt\n",
    "# Rest of the code follows...\n"
   ]
  },
  {
   "cell_type": "code",
   "execution_count": null,
   "id": "78b55c05",
   "metadata": {},
   "outputs": [],
   "source": [
    "# Generating an array of 50 evenly spaced values from 0 to 500\n",
    "np.linspace(0, 500, 50)"
   ]
  },
  {
   "cell_type": "code",
   "execution_count": null,
   "id": "8f193eb8",
   "metadata": {},
   "outputs": [],
   "source": [
    "myArray = np.linspace(0, 10, 5)\n",
    "myArray"
   ]
  },
  {
   "cell_type": "code",
   "execution_count": null,
   "id": "af372978",
   "metadata": {},
   "outputs": [],
   "source": [
    "# Creating a 2D NumPy array 'eegData' representing EEG data from two channels (Fz and Cz)\n",
    "eegData = np.array([[-5, 10, -2, 8, -3],   # Fz channel\n",
    "                     [3, -6, 12, 5, -8]])     # Cz channel\n",
    "\n",
    "print(eegData)\n"
   ]
  },
  {
   "cell_type": "code",
   "execution_count": null,
   "id": "046ce73a",
   "metadata": {},
   "outputs": [],
   "source": [
    "eegData.shape"
   ]
  },
  {
   "cell_type": "code",
   "execution_count": null,
   "id": "822bce0b",
   "metadata": {},
   "outputs": [],
   "source": [
    "# Calculate the maximum potential from the Fz channel in the EEG data\n",
    "maxPotential = np.mean(eegData[0])\n",
    "maxPotential"
   ]
  },
  {
   "cell_type": "code",
   "execution_count": null,
   "id": "12be4484",
   "metadata": {},
   "outputs": [],
   "source": [
    "# Extract data from the Fz channel in the EEG data\n",
    "FzData = eegData[0]\n",
    "# Find the maximum value in the Fz channel data\n",
    "FzData.max()"
   ]
  },
  {
   "cell_type": "code",
   "execution_count": null,
   "id": "ba063d39",
   "metadata": {},
   "outputs": [],
   "source": [
    "help(np.max)"
   ]
  },
  {
   "cell_type": "markdown",
   "id": "79b44f4e",
   "metadata": {},
   "source": [
    "# **Control Statements**"
   ]
  },
  {
   "cell_type": "code",
   "execution_count": null,
   "id": "c03ace20",
   "metadata": {},
   "outputs": [],
   "source": [
    "# Check if age is 5 or older\n",
    "\n",
    "age = 25\n",
    "if age >= 5:\n",
    "    print(\"You can go for EEG analysis!\")\n",
    "else:\n",
    "    print(\"Oops, you need to be at least 5 for this course.\")\n"
   ]
  },
  {
   "cell_type": "code",
   "execution_count": null,
   "id": "60a65a4c",
   "metadata": {},
   "outputs": [],
   "source": [
    "if condition:\n",
    "    # code to be executed if the condition is True\n",
    "else:\n",
    "    # code to be executed if the condition is False\n"
   ]
  },
  {
   "cell_type": "code",
   "execution_count": null,
   "id": "a6db624f",
   "metadata": {},
   "outputs": [],
   "source": [
    "# Check if it's raining\n",
    "\n",
    "isRaining = False\n",
    "\n",
    "if isRaining:\n",
    "    print(\"Grab an umbrella, it's raining!\")\n",
    "else:\n",
    "    print(\"Wear sunglasses, it's a sunny day!\")\n"
   ]
  },
  {
   "cell_type": "code",
   "execution_count": null,
   "id": "b92f99d2",
   "metadata": {},
   "outputs": [],
   "source": [
    "# Print a message three times using a loop\n",
    "\n",
    "for i in range(3):\n",
    "    print(\"Hello, EEG and Python!\")\n"
   ]
  },
  {
   "cell_type": "markdown",
   "id": "792b2a77",
   "metadata": {},
   "source": [
    "# **Plotting with matplotlib**"
   ]
  },
  {
   "cell_type": "code",
   "execution_count": null,
   "id": "0512462b",
   "metadata": {},
   "outputs": [],
   "source": [
    "import matplotlib.pyplot as plt\n",
    "import numpy as np"
   ]
  },
  {
   "cell_type": "code",
   "execution_count": null,
   "id": "57583e4f",
   "metadata": {},
   "outputs": [],
   "source": [
    "# Generating x values using linspace: 15 points from 1 to 20\n",
    "x = np.linspace(1, 20, 100)\n",
    "\n",
    "# Calculating y values as the sine of x\n",
    "y = np.sin(x)\n",
    "\n",
    "# Plotting the sine wave\n",
    "plt.plot(x,y)\n",
    "plt.show()"
   ]
  },
  {
   "cell_type": "code",
   "execution_count": null,
   "id": "f2163e8c",
   "metadata": {},
   "outputs": [],
   "source": [
    "x = np.linspace(1, 20,15)\n",
    "y = np.sin(x)\n",
    "plt.plot(x,y)\n",
    "\n",
    "#Setting x and y labels\n",
    "plt.xlabel('Time')\n",
    "plt.ylabel('Amplitude')\n",
    "plt.show()"
   ]
  },
  {
   "cell_type": "code",
   "execution_count": null,
   "id": "b7fe6104",
   "metadata": {},
   "outputs": [],
   "source": [
    "plt.subplot(#number of raws, number of columns, current plot)\n",
    "plt.subplot(1, 2, 1)"
   ]
  },
  {
   "cell_type": "code",
   "execution_count": null,
   "id": "1bf2768b",
   "metadata": {},
   "outputs": [],
   "source": [
    "x = np.linspace(0, 20, 100)\n",
    "y = np.sin(x)\n",
    "\n",
    "# Performing FFT on the sine wave to obtain frequency domain \n",
    "z= np.fft.fft(y)\n",
    "\n",
    "# Creating subplots\n",
    "plt.subplot(1,2,1) # Subplot 1 on a 1x2 grid\n",
    "plt.plot(x,y, 'r', label='EEG signal')\n",
    "plt.legend()\n",
    "\n",
    "plt.subplot(1,2,2) # Subplot 2 on a 1x2 grid\n",
    "plt.plot(x,abs(z), label='Freq')\n",
    "plt.legend()\n",
    "\n",
    "plt.show()"
   ]
  },
  {
   "cell_type": "code",
   "execution_count": null,
   "id": "2a9441aa",
   "metadata": {},
   "outputs": [],
   "source": [
    "# Creating a figure and an array of subplots with 1 row and 2 columns\n",
    "fig, ax = plt.subplots(1, 2, figsize=(12,3))\n",
    "\n",
    "# Plotting EEG signal in the first subplot\n",
    "ax[0].plot(x,y)\n",
    "ax[0].set_title('EEG')\n",
    "\n",
    "# Plotting Frequency signal in the second subplot\n",
    "ax[1].plot(x,z)\n",
    "ax[1].set_title('Freq')\n",
    "\n"
   ]
  },
  {
   "cell_type": "markdown",
   "id": "7e9de833",
   "metadata": {},
   "source": [
    "# **Install MNE**"
   ]
  },
  {
   "cell_type": "code",
   "execution_count": null,
   "id": "db23b80e",
   "metadata": {},
   "outputs": [],
   "source": [
    "pip install mne\n"
   ]
  }
 ],
 "metadata": {
  "kernelspec": {
   "display_name": "Python 3 (ipykernel)",
   "language": "python",
   "name": "python3"
  },
  "language_info": {
   "codemirror_mode": {
    "name": "ipython",
    "version": 3
   },
   "file_extension": ".py",
   "mimetype": "text/x-python",
   "name": "python",
   "nbconvert_exporter": "python",
   "pygments_lexer": "ipython3",
   "version": "3.11.7"
  }
 },
 "nbformat": 4,
 "nbformat_minor": 5
}
