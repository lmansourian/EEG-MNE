{
 "cells": [
  {
   "cell_type": "markdown",
   "id": "aff08a44",
   "metadata": {},
   "source": [
    "# **ERP and time-frequency analysis in Python and MNE**"
   ]
  },
  {
   "cell_type": "markdown",
   "id": "9bb68931",
   "metadata": {},
   "source": [
    "### **Working with trial-based data in Python**"
   ]
  },
  {
   "cell_type": "code",
   "execution_count": null,
   "id": "bdc66ece",
   "metadata": {},
   "outputs": [],
   "source": [
    "#Imporging necessary libraries\n",
    "from scipy.io import loadmat\n",
    "#Loading MATLAB data\n",
    "data = loadmat('Trial-based.mat')\n",
    "type(data)\n",
    "data.keys()"
   ]
  },
  {
   "cell_type": "code",
   "execution_count": null,
   "id": "e4d9f394",
   "metadata": {},
   "outputs": [],
   "source": [
    "#View the data associated with keys\n",
    "for key in data.keys():\n",
    "    print(key, data[key])\n"
   ]
  },
  {
   "cell_type": "code",
   "execution_count": null,
   "id": "9e8b4216",
   "metadata": {},
   "outputs": [],
   "source": [
    "#Exctract conditions of the experiment\n",
    "conditionHappyFace = data['EEGa']\n",
    "conditionNonFace = data['EEGb']\n",
    "\n",
    "#Extract time\n",
    "time = data['t'][0]\n",
    "%whos\n"
   ]
  },
  {
   "cell_type": "code",
   "execution_count": null,
   "id": "00a480c3",
   "metadata": {},
   "outputs": [],
   "source": [
    "#Define number of trials\n",
    "trialNumber = conditionHappyFace.shape[0]\n",
    "\n",
    "#Define number of samples in each trial\n",
    "sampleNumber = conditionHappyFace.shape[1]\n"
   ]
  },
  {
   "cell_type": "code",
   "execution_count": null,
   "id": "a80298bb",
   "metadata": {},
   "outputs": [],
   "source": [
    "conditionHappyFace.shape[0]"
   ]
  },
  {
   "cell_type": "code",
   "execution_count": null,
   "id": "607b0ab6",
   "metadata": {},
   "outputs": [],
   "source": [
    "#Print first/last trial\n",
    "print(conditionHappyFace[1000])"
   ]
  },
  {
   "cell_type": "markdown",
   "id": "fe2abced",
   "metadata": {},
   "source": [
    "### **Plotting single trials**"
   ]
  },
  {
   "cell_type": "code",
   "execution_count": null,
   "id": "4cb4f0a5",
   "metadata": {},
   "outputs": [],
   "source": [
    "#Ploting one trial for each condition of the experiment\n",
    "import matplotlib.pyplot as plt\n",
    "plt.figure(figsize=(12,1))\n",
    "plt.plot(time, conditionHappyFace[999], linewidth=2)\n",
    "plt.plot(time, conditionNonFace[999])\n",
    "\n"
   ]
  },
  {
   "cell_type": "code",
   "execution_count": null,
   "id": "add6290b",
   "metadata": {},
   "outputs": [],
   "source": [
    "plt.figure(figsize=(12,1))\n",
    "plt.plot(time*1000, conditionHappyFace[0], label='Happy Face')\n",
    "plt.plot(time*1000, conditionNonFace[0], label='Non-Face')\n",
    "plt.xlabel('Time (ms)')\n",
    "plt.ylabel('Voltage [$\\mu$ V]')\n",
    "plt.title('EEG data from both conditions, Trial 1')\n",
    "\n",
    "plt.plot([250,250],[-5,5], 'r', lw=2, label='stimulus', alpha=.8, ls='--')\n",
    "\n",
    "plt.legend()\n",
    "\n"
   ]
  },
  {
   "cell_type": "markdown",
   "id": "d3e869e2",
   "metadata": {},
   "source": [
    "### **Computing ERP for the conditions**"
   ]
  },
  {
   "cell_type": "code",
   "execution_count": null,
   "id": "e74a7e70",
   "metadata": {},
   "outputs": [],
   "source": [
    "#Compute mean ERPs over the first (raw) dimention\n",
    "ERPHappy = conditionHappyFace.mean(0)\n",
    "ERPNonFace = conditionNonFace.mean(0)"
   ]
  },
  {
   "cell_type": "markdown",
   "id": "6b02ac4c",
   "metadata": {},
   "source": [
    "### **Plotting mean ERPs**"
   ]
  },
  {
   "cell_type": "code",
   "execution_count": null,
   "id": "02294305",
   "metadata": {},
   "outputs": [],
   "source": [
    "plt.figure(figsize=(12,2))\n",
    "\n",
    "plt.plot(time*1000, ERPHappy, label='ERP for Happy Face Condition')\n",
    "plt.plot(time*1000, ERPNonFace, label='ERP for Non Face Condition')\n",
    "plt.xlabel('Time (s)')\n",
    "plt.ylabel('Voltage [$\\mu$ V]')\n",
    "plt.title('Mean ERPs for two conditions')\n",
    "\n",
    "plt.plot([250, 250], [-.3,.3], 'r', lw=2, label='Stimulus', alpha=0.8, ls='--')\n",
    "plt.legend()\n"
   ]
  },
  {
   "cell_type": "markdown",
   "id": "846c5a18",
   "metadata": {},
   "source": [
    "### **ERP analysis in MNE**"
   ]
  },
  {
   "cell_type": "markdown",
   "id": "a85e8f8c",
   "metadata": {},
   "source": [
    "### **Importing EEG in MNE**"
   ]
  },
  {
   "cell_type": "code",
   "execution_count": null,
   "id": "21dff04b",
   "metadata": {},
   "outputs": [],
   "source": [
    "#importing necessary libraries\n",
    "import mne\n",
    "import matplotlib.pyplot as plt\n",
    "import numpy as np\n",
    "%matplotlib qt\n",
    "\n",
    "#Importing EDF file\n",
    "EEG = mne.io.read_raw_edf('ERD_ERS.edf', preload=True)\n"
   ]
  },
  {
   "cell_type": "code",
   "execution_count": null,
   "id": "5b92cdce",
   "metadata": {},
   "outputs": [],
   "source": [
    "#Examine the EEG channels\n",
    "EEG.ch_names"
   ]
  },
  {
   "cell_type": "code",
   "execution_count": null,
   "id": "6f1c4338",
   "metadata": {},
   "outputs": [],
   "source": [
    "#Remove desired channel\n",
    "EEG.drop_channels('LABEL')"
   ]
  },
  {
   "cell_type": "code",
   "execution_count": null,
   "id": "ca8a62a2",
   "metadata": {},
   "outputs": [],
   "source": [
    "EEG.ch_names"
   ]
  },
  {
   "cell_type": "markdown",
   "id": "2ec2b533",
   "metadata": {},
   "source": [
    "### **Montage set**"
   ]
  },
  {
   "cell_type": "code",
   "execution_count": null,
   "id": "55fe9e35",
   "metadata": {},
   "outputs": [],
   "source": [
    "montage = mne.channels.make_standard_montage('standard_1020')\n",
    "EEG.set_montage(montage, on_missing='ignore')\n"
   ]
  },
  {
   "cell_type": "code",
   "execution_count": null,
   "id": "41fb90cd",
   "metadata": {},
   "outputs": [],
   "source": [
    "#Filter the data\n",
    "EEG.filter(0.1, 30)"
   ]
  },
  {
   "cell_type": "code",
   "execution_count": null,
   "id": "96082ba4",
   "metadata": {},
   "outputs": [],
   "source": [
    "EEG.plot(block=False, duration=10.0)"
   ]
  },
  {
   "cell_type": "markdown",
   "id": "0f06a0b5",
   "metadata": {},
   "source": [
    "### **Loading the Labels file and creating Events**"
   ]
  },
  {
   "cell_type": "code",
   "execution_count": null,
   "id": "6b379dda",
   "metadata": {},
   "outputs": [],
   "source": [
    "# Loading trigger codes from Labels.txt\n",
    "labelsData = np.loadtxt('Labels.txt', dtype=float)\n",
    "triggerCodes = labelsData[:, 0]\n",
    "# Extracting sampling frequency from EEG info\n",
    "sfreq = EEG.info['sfreq']\n",
    "\n",
    "# Converting trigger codes to trigger samples\n",
    "triggerSamples = (triggerCodes * sfreq ).astype(int)\n",
    "\n",
    "# Extracting condition labels\n",
    "conditionLabels = (labelsData[:,1]).astype(int)\n",
    "\n",
    "# Creating EEG events array with trigger samples and condition labels\n",
    "EEGEvents = np.column_stack((triggerSamples, np.zeros_like(triggerSamples), conditionLabels))\n",
    "conditionLabels"
   ]
  },
  {
   "cell_type": "markdown",
   "id": "544133a9",
   "metadata": {},
   "source": [
    "### **Epoching the events for MNE**"
   ]
  },
  {
   "cell_type": "code",
   "execution_count": null,
   "id": "73d798a9",
   "metadata": {},
   "outputs": [],
   "source": [
    "#Plotting and seeeing events\n",
    "EEG.plot(block=False, duration=10.0, events = EEGEvents, title = 'EEG with Events')"
   ]
  },
  {
   "cell_type": "code",
   "execution_count": null,
   "id": "3f112941",
   "metadata": {},
   "outputs": [],
   "source": [
    "#Adding preferred labels for the events\n",
    "eventIDs = {'Condition 1':1, 'Condition 2':2, 'Condition 3':3, 'Condition 4':4 }\n",
    "\n",
    "EEG.plot(duration=10.0, events = EEGEvents, title='EEG with Events', event_id = eventIDs)"
   ]
  },
  {
   "cell_type": "code",
   "execution_count": null,
   "id": "f2196877",
   "metadata": {},
   "outputs": [],
   "source": [
    "#Creating a variable for EVENTS structure\n",
    "epochStart= -.2\n",
    "epochEnd=2\n",
    "conditionEpochs = mne.Epochs (EEG, events= EEGEvents, event_id=eventIDs, tmin=epochStart, tmax=epochEnd,\n",
    "            baseline=(-0.2, 0), reject=None)\n",
    "conditionEpochs"
   ]
  },
  {
   "cell_type": "code",
   "execution_count": null,
   "id": "fb839c82",
   "metadata": {},
   "outputs": [],
   "source": [
    "#Access specific epochs\n",
    "conditionEpochs['Condition 1']"
   ]
  },
  {
   "cell_type": "markdown",
   "id": "4a18adff",
   "metadata": {},
   "source": [
    "### **Move epochs to different variables**"
   ]
  },
  {
   "cell_type": "code",
   "execution_count": null,
   "id": "a65f7af2",
   "metadata": {},
   "outputs": [],
   "source": [
    "Condition1Epochs = conditionEpochs['Condition 1']\n",
    "Condition2Epochs = conditionEpochs['Condition 2']\n",
    "Condition1Epochs.get_data()[0,8,:]"
   ]
  },
  {
   "cell_type": "markdown",
   "id": "f50626cb",
   "metadata": {},
   "source": [
    "### **Compute mean ERPs**"
   ]
  },
  {
   "cell_type": "code",
   "execution_count": null,
   "id": "d3b210d0",
   "metadata": {},
   "outputs": [],
   "source": [
    "averageERPCondition1 = Condition1Epochs.average()\n",
    "averageERPCondition2 = Condition2Epochs.average()\n",
    "averageERPCondition1"
   ]
  },
  {
   "cell_type": "markdown",
   "id": "802f91c6",
   "metadata": {},
   "source": [
    "### **Pick a channel**"
   ]
  },
  {
   "cell_type": "code",
   "execution_count": null,
   "id": "b5af2da2",
   "metadata": {},
   "outputs": [],
   "source": [
    "channelForAnalysis = 'Fz-Av'\n",
    "myPick = EEG.info['ch_names']\n",
    "myPick = EEG.info['ch_names'].index(channelForAnalysis)"
   ]
  },
  {
   "cell_type": "code",
   "execution_count": null,
   "id": "16b7a22c",
   "metadata": {},
   "outputs": [],
   "source": [
    "EEG.ch_names"
   ]
  },
  {
   "cell_type": "markdown",
   "id": "3a9628d3",
   "metadata": {},
   "source": [
    "### **Mean for one channel**"
   ]
  },
  {
   "cell_type": "code",
   "execution_count": null,
   "id": "115162eb",
   "metadata": {},
   "outputs": [],
   "source": [
    "averageERPCondition1 = Condition1Epochs.average()\n",
    "averageERPCondition2 = Condition2Epochs.average()"
   ]
  },
  {
   "cell_type": "markdown",
   "id": "eff7b3bb",
   "metadata": {},
   "source": [
    "### **Plot means for desired channels**"
   ]
  },
  {
   "cell_type": "code",
   "execution_count": null,
   "id": "3cf50d21",
   "metadata": {},
   "outputs": [],
   "source": [
    "averageERPCondition1.plot(time_unit='ms')\n",
    "averageERPCondition2.plot(time_unit='ms')"
   ]
  },
  {
   "cell_type": "markdown",
   "id": "568dae95",
   "metadata": {},
   "source": [
    "### **Time-frequency in MNE**"
   ]
  },
  {
   "cell_type": "code",
   "execution_count": null,
   "id": "d71b56c3",
   "metadata": {},
   "outputs": [],
   "source": [
    "from mne.time_frequency import tfr_morlet\n",
    "freqRange = np.arange(4,30,.1)\n",
    "numberOfCycles = 3\n",
    "\n",
    "TFRCondition1 = tfr_morlet(Condition1Epochs, freqRange, numberOfCycles, average=True)\n",
    "TFRCondition2 = tfr_morlet(Condition2Epochs, freqRange, numberOfCycles, average=True)\n"
   ]
  },
  {
   "cell_type": "markdown",
   "id": "1d0da8f0",
   "metadata": {},
   "source": [
    "### **Plotting time-frequency for our pick**"
   ]
  },
  {
   "cell_type": "code",
   "execution_count": null,
   "id": "ae175de5",
   "metadata": {},
   "outputs": [],
   "source": [
    "TFRCondition1"
   ]
  },
  {
   "cell_type": "code",
   "execution_count": null,
   "id": "1838830a",
   "metadata": {},
   "outputs": [],
   "source": [
    "TFRCondition1_Fz = TFRCondition1[0].copy()\n",
    "TFRCondition1_Fz.plot(myPick, baseline=(-0.2, 0), mode='logratio',\n",
    "                      title='Time-Frequency for Condition 1 (Fz)')"
   ]
  }
 ],
 "metadata": {
  "kernelspec": {
   "display_name": "Python 3 (ipykernel)",
   "language": "python",
   "name": "python3"
  },
  "language_info": {
   "codemirror_mode": {
    "name": "ipython",
    "version": 3
   },
   "file_extension": ".py",
   "mimetype": "text/x-python",
   "name": "python",
   "nbconvert_exporter": "python",
   "pygments_lexer": "ipython3",
   "version": "3.11.7"
  }
 },
 "nbformat": 4,
 "nbformat_minor": 5
}
